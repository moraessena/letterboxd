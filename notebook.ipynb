{
 "cells": [
  {
   "cell_type": "markdown",
   "id": "ccf71462",
   "metadata": {},
   "source": [
    "# Trabalho Final\n",
    "\n",
    "## Alunos\n",
    "\n",
    "- Daniel Sena (dmms@cesar.school)\n",
    "\n",
    "## Dataset\n",
    "\n",
    "[Letterboxd (Movies Dataset)](https://www.kaggle.com/datasets/gsimonx37/letterboxd/data?select=movies.csv)"
   ]
  },
  {
   "cell_type": "markdown",
   "id": "75f7d69d",
   "metadata": {},
   "source": [
    "## Importando bibliotecas"
   ]
  },
  {
   "cell_type": "code",
   "execution_count": 1,
   "id": "713757f0",
   "metadata": {},
   "outputs": [],
   "source": [
    "import pandas as pd\n",
    "from pyspark.sql import SparkSession\n",
    "from pyspark.conf import SparkConf"
   ]
  },
  {
   "cell_type": "markdown",
   "id": "05eb4bf4",
   "metadata": {},
   "source": [
    "## Inicializando spark  "
   ]
  },
  {
   "cell_type": "code",
   "execution_count": null,
   "id": "c4ab0dab",
   "metadata": {},
   "outputs": [
    {
     "name": "stderr",
     "output_type": "stream",
     "text": [
      "25/04/06 17:28:40 WARN Utils: Your hostname, dan-pc resolves to a loopback address: 127.0.1.1; using 192.168.0.184 instead (on interface wlp0s20f3)\n",
      "25/04/06 17:28:40 WARN Utils: Set SPARK_LOCAL_IP if you need to bind to another address\n",
      "Setting default log level to \"WARN\".\n",
      "To adjust logging level use sc.setLogLevel(newLevel). For SparkR, use setLogLevel(newLevel).\n",
      "25/04/06 17:28:41 WARN NativeCodeLoader: Unable to load native-hadoop library for your platform... using builtin-java classes where applicable\n"
     ]
    }
   ],
   "source": [
    "spark = SparkSession.builder\\\n",
    "    .appName(\"ProjetoFinal\")\\\n",
    "    .master(\"local[*]\")\\\n",
    "    .config(\"spark.driver.memory\", \"1g\")\\\n",
    "    .config(\"spark.executor.memory\", \"1g\")\\\n",
    "    .config(\"spark.sql.shuffle.partitions\", \"64\")\\\n",
    "    .getOrCreate()    "
   ]
  },
  {
   "cell_type": "markdown",
   "id": "507277c6",
   "metadata": {},
   "source": [
    "### Função para leitura dos csv"
   ]
  },
  {
   "cell_type": "code",
   "execution_count": 3,
   "id": "fbf74f2b",
   "metadata": {},
   "outputs": [],
   "source": [
    "def read_csv(nome_arquivo):\n",
    "    caminho_completo = './data/' + nome_arquivo + \".csv\"\n",
    "    return spark.read.csv(caminho_completo, header=True, inferSchema=True)"
   ]
  },
  {
   "cell_type": "markdown",
   "id": "bf9fb9f8",
   "metadata": {},
   "source": [
    "## Análises"
   ]
  },
  {
   "cell_type": "markdown",
   "id": "0aa0d648",
   "metadata": {},
   "source": [
    "### Quantidade de Filmes por País"
   ]
  },
  {
   "cell_type": "code",
   "execution_count": 4,
   "id": "f3cb6cc5",
   "metadata": {},
   "outputs": [
    {
     "name": "stdout",
     "output_type": "stream",
     "text": [
      "+------------------+----------+\n",
      "|           country|qtd_movies|\n",
      "+------------------+----------+\n",
      "|               USA|    174489|\n",
      "|            France|     45725|\n",
      "|                UK|     42914|\n",
      "|             Japan|     41362|\n",
      "|           Germany|     41325|\n",
      "|            Canada|     23054|\n",
      "|             India|     22393|\n",
      "|             Italy|     19377|\n",
      "|            Brazil|     17212|\n",
      "|             Spain|     16860|\n",
      "|            Mexico|     13261|\n",
      "|             China|     13051|\n",
      "|Russian Federation|     11323|\n",
      "|       South Korea|     10975|\n",
      "|              USSR|      9680|\n",
      "|         Argentina|      9250|\n",
      "|            Sweden|      8979|\n",
      "|         Australia|      7815|\n",
      "|       Philippines|      7703|\n",
      "|         Hong Kong|      7027|\n",
      "+------------------+----------+\n",
      "only showing top 20 rows\n",
      "\n"
     ]
    }
   ],
   "source": [
    "from pyspark.sql.functions import count, col\n",
    "df_countries = read_csv(\"countries\")\n",
    "movies_by_country = df_countries.groupBy(\"country\")\\\n",
    "    .agg(count(\"*\").alias(\"qtd_movies\"))\\\n",
    "    .orderBy(col(\"qtd_movies\").desc())\n",
    "movies_by_country.show()"
   ]
  },
  {
   "cell_type": "markdown",
   "id": "2818b349",
   "metadata": {},
   "source": [
    "### Gêneros por País"
   ]
  },
  {
   "cell_type": "code",
   "execution_count": 5,
   "id": "98f5a7c9",
   "metadata": {},
   "outputs": [],
   "source": [
    "df_genre = read_csv(\"genres\")"
   ]
  },
  {
   "cell_type": "code",
   "execution_count": 6,
   "id": "b2c93a92",
   "metadata": {},
   "outputs": [
    {
     "name": "stdout",
     "output_type": "stream",
     "text": [
      "root\n",
      " |-- id: integer (nullable = true)\n",
      " |-- country: string (nullable = true)\n",
      " |-- genre: string (nullable = true)\n",
      "\n"
     ]
    },
    {
     "name": "stderr",
     "output_type": "stream",
     "text": [
      "[Stage 7:=======================================>                   (2 + 1) / 3]\r"
     ]
    },
    {
     "name": "stdout",
     "output_type": "stream",
     "text": [
      "+-------+-------+---------------+\n",
      "|     id|country|          genre|\n",
      "+-------+-------+---------------+\n",
      "|1000018|     UK|         Action|\n",
      "|1000018|     UK|      Adventure|\n",
      "|1000018|     UK|Science Fiction|\n",
      "|1000018|    USA|         Action|\n",
      "|1000018|    USA|      Adventure|\n",
      "+-------+-------+---------------+\n",
      "only showing top 5 rows\n",
      "\n"
     ]
    },
    {
     "name": "stderr",
     "output_type": "stream",
     "text": [
      "                                                                                \r"
     ]
    }
   ],
   "source": [
    "df_genre_country = df_countries.join(df_genre, \"id\", \"inner\")\n",
    "df_genre_country.printSchema()\n",
    "df_genre_country.show(5)"
   ]
  },
  {
   "cell_type": "code",
   "execution_count": 7,
   "id": "5d8438f7",
   "metadata": {},
   "outputs": [
    {
     "name": "stderr",
     "output_type": "stream",
     "text": [
      "[Stage 16:===>                                                    (1 + 15) / 16]\r"
     ]
    },
    {
     "name": "stdout",
     "output_type": "stream",
     "text": [
      "+-----------+---------+----------+\n",
      "|    country|    genre|qtd_movies|\n",
      "+-----------+---------+----------+\n",
      "|         UK|      War|       958|\n",
      "|     France|   Family|       997|\n",
      "|    Ireland|    Drama|       939|\n",
      "|      Italy|  History|       795|\n",
      "|     Poland|  Romance|       301|\n",
      "|     Brazil| Thriller|       698|\n",
      "|South Korea|Animation|       573|\n",
      "|    Czechia|Animation|       321|\n",
      "|     Turkey|   Action|       318|\n",
      "|      India|Adventure|       502|\n",
      "+-----------+---------+----------+\n",
      "only showing top 10 rows\n",
      "\n"
     ]
    },
    {
     "name": "stderr",
     "output_type": "stream",
     "text": [
      "                                                                                \r"
     ]
    }
   ],
   "source": [
    "df_genre_qtd_by_country = df_genre_country.groupBy(\"country\", \"genre\").agg(count(\"*\").alias(\"qtd_movies\"))\n",
    "df_genre_qtd_by_country.show(10)"
   ]
  },
  {
   "cell_type": "code",
   "execution_count": 8,
   "id": "a0f1ed9c",
   "metadata": {},
   "outputs": [
    {
     "name": "stdout",
     "output_type": "stream",
     "text": [
      "+--------------------+-----------+----------+----+\n",
      "|             country|      genre|qtd_movies|rank|\n",
      "+--------------------+-----------+----------+----+\n",
      "|                 USA|      Drama|     46837|   1|\n",
      "|              France|      Drama|     14669|   1|\n",
      "|             Germany|      Drama|     14418|   1|\n",
      "|                  UK|      Drama|     12697|   1|\n",
      "|               Japan|      Drama|     12409|   1|\n",
      "|               India|      Drama|     11356|   1|\n",
      "|               Italy|      Drama|      6554|   1|\n",
      "|              Canada|      Drama|      6451|   1|\n",
      "|               Spain|      Drama|      5883|   1|\n",
      "|               China|      Drama|      5483|   1|\n",
      "|              Brazil|Documentary|      5458|   1|\n",
      "|         South Korea|      Drama|      5191|   1|\n",
      "|              Mexico|      Drama|      4052|   1|\n",
      "|                USSR|      Drama|      3956|   1|\n",
      "|  Russian Federation|      Drama|      3917|   1|\n",
      "|         Philippines|      Drama|      3558|   1|\n",
      "|              Sweden|      Drama|      3335|   1|\n",
      "|           Argentina|      Drama|      3306|   1|\n",
      "|           Indonesia|      Drama|      2738|   1|\n",
      "|           Australia|      Drama|      2540|   1|\n",
      "|              Turkey|      Drama|      2539|   1|\n",
      "|           Hong Kong|     Action|      2406|   1|\n",
      "|              Poland|      Drama|      2230|   1|\n",
      "|      Czechoslovakia|      Drama|      2203|   1|\n",
      "|             Belgium|      Drama|      2130|   1|\n",
      "|         Netherlands|Documentary|      2029|   1|\n",
      "|               Egypt|      Drama|      1922|   1|\n",
      "|         Switzerland|Documentary|      1751|   1|\n",
      "|             Denmark|      Drama|      1726|   1|\n",
      "|                Iran|      Drama|      1669|   1|\n",
      "|              Taiwan|      Drama|      1637|   1|\n",
      "|            Portugal|      Drama|      1606|   1|\n",
      "|              Greece|      Drama|      1573|   1|\n",
      "|             Austria|      Drama|      1496|   1|\n",
      "|             Finland|      Drama|      1436|   1|\n",
      "|              Norway|      Drama|      1409|   1|\n",
      "|          Yugoslavia|      Drama|      1239|   1|\n",
      "|            Thailand|      Drama|      1219|   1|\n",
      "|             Czechia|Documentary|      1203|   1|\n",
      "|             Hungary|      Drama|      1191|   1|\n",
      "|              Israel|      Drama|      1002|   1|\n",
      "|             Ireland|      Drama|       939|   1|\n",
      "|               Chile|      Drama|       909|   1|\n",
      "|             Romania|      Drama|       872|   1|\n",
      "|             Ukraine|Documentary|       858|   1|\n",
      "|            Malaysia|      Drama|       736|   1|\n",
      "|          Kazakhstan|      Drama|       665|   1|\n",
      "|              Latvia|Documentary|       631|   1|\n",
      "|            Bulgaria|      Drama|       613|   1|\n",
      "|              Serbia|      Drama|       597|   1|\n",
      "|            Colombia|      Drama|       576|   1|\n",
      "|         New Zealand|      Drama|       552|   1|\n",
      "|        East Germany|      Drama|       546|   1|\n",
      "|        South Africa|      Drama|       522|   1|\n",
      "|             Croatia|      Drama|       509|   1|\n",
      "|            Slovakia|Documentary|       491|   1|\n",
      "|          Bangladesh|      Drama|       472|   1|\n",
      "|         Puerto Rico|      Drama|       472|   1|\n",
      "|            Slovenia|      Drama|       469|   1|\n",
      "|           Singapore|      Drama|       457|   1|\n",
      "|                Peru|      Drama|       432|   1|\n",
      "|             Nigeria|      Drama|       400|   1|\n",
      "|             Iceland|Documentary|       395|   1|\n",
      "|                Cuba|Documentary|       350|   1|\n",
      "|             Estonia|Documentary|       337|   1|\n",
      "|     North Macedonia|      Drama|       316|   1|\n",
      "|  State of Palestine|Documentary|       314|   1|\n",
      "|Bolivarian Republ...|      Drama|       304|   1|\n",
      "|             Uruguay|Documentary|       297|   1|\n",
      "|Bosnia and Herzeg...|      Drama|       290|   1|\n",
      "|          Luxembourg|      Drama|       278|   1|\n",
      "|             Vietnam|      Drama|       273|   1|\n",
      "|            Pakistan|      Drama|       272|   1|\n",
      "|             Morocco|      Drama|       269|   1|\n",
      "|           Lithuania|Documentary|       268|   1|\n",
      "|             Lebanon|      Drama|       268|   1|\n",
      "|             Albania|      Drama|       254|   1|\n",
      "|             Georgia|      Drama|       234|   1|\n",
      "|             Algeria|      Drama|       229|   1|\n",
      "|        Saudi Arabia|      Drama|       222|   1|\n",
      "|             Ecuador|Documentary|       201|   1|\n",
      "|             Tunisia|      Drama|       195|   1|\n",
      "|  Dominican Republic|      Drama|       181|   1|\n",
      "|              Kuwait|     Comedy|       177|   1|\n",
      "|               Qatar|      Drama|       170|   1|\n",
      "|           Sri Lanka|      Drama|       168|   1|\n",
      "|             Belarus|Documentary|       162|   1|\n",
      "|                Iraq|      Drama|       162|   1|\n",
      "|               Nepal|      Drama|       151|   1|\n",
      "|United Arab Emirates|      Drama|       147|   1|\n",
      "|          Azerbaijan|      Drama|       145|   1|\n",
      "|          Costa Rica|      Drama|       115|   1|\n",
      "|Syrian Arab Republic|      Drama|       113|   1|\n",
      "|            Cambodia|      Drama|       108|   1|\n",
      "|             Senegal|      Drama|       103|   1|\n",
      "|         Afghanistan|Documentary|        99|   1|\n",
      "|             Bolivia|Documentary|        97|   1|\n",
      "|         North Korea|      Drama|        95|   1|\n",
      "|              Kosovo|      Drama|        92|   1|\n",
      "|              Cyprus|      Drama|        90|   1|\n",
      "+--------------------+-----------+----------+----+\n",
      "only showing top 100 rows\n",
      "\n"
     ]
    }
   ],
   "source": [
    "from pyspark.sql import Window\n",
    "from pyspark.sql.functions import row_number, desc\n",
    "\n",
    "window_spec = Window.partitionBy(\"country\").orderBy(desc(\"qtd_movies\"))\n",
    "ranked_genres_by_country = df_genre_qtd_by_country.withColumn(\"rank\", row_number().over(window_spec))\n",
    "most_popular_genre_by_country = ranked_genres_by_country.filter(col(\"rank\")==1)\n",
    "most_popular_genre_by_country.orderBy(col(\"qtd_movies\").desc()).show(100)"
   ]
  },
  {
   "cell_type": "markdown",
   "id": "6bc9021c",
   "metadata": {},
   "source": [
    "### Top 3 Studios que mais produziram filmes por País"
   ]
  },
  {
   "cell_type": "code",
   "execution_count": 9,
   "id": "cde83730",
   "metadata": {},
   "outputs": [
    {
     "name": "stdout",
     "output_type": "stream",
     "text": [
      "+-------+--------------------+\n",
      "|     id|              studio|\n",
      "+-------+--------------------+\n",
      "|1000001|LuckyChap Enterta...|\n",
      "|1000001|        Heyday Films|\n",
      "|1000001|      NB/GG Pictures|\n",
      "|1000001|              Mattel|\n",
      "|1000001|Warner Bros. Pict...|\n",
      "|1000002|        Barunson E&A|\n",
      "|1000003|           IAC Films|\n",
      "|1000003|                AGBO|\n",
      "|1000003|Ley Line Entertai...|\n",
      "|1000003|     Year of the Rat|\n",
      "+-------+--------------------+\n",
      "only showing top 10 rows\n",
      "\n"
     ]
    }
   ],
   "source": [
    "df_studios = read_csv(\"studios\")\n",
    "df_studios.show(10)"
   ]
  },
  {
   "cell_type": "code",
   "execution_count": 10,
   "id": "bceabd96",
   "metadata": {},
   "outputs": [
    {
     "name": "stdout",
     "output_type": "stream",
     "text": [
      "root\n",
      " |-- id: integer (nullable = true)\n",
      " |-- country: string (nullable = true)\n",
      " |-- studio: string (nullable = true)\n",
      "\n",
      "+-------+-------+--------------------+\n",
      "|     id|country|              studio|\n",
      "+-------+-------+--------------------+\n",
      "|1000018|     UK|  Legendary Pictures|\n",
      "|1000018|     UK|             Syncopy|\n",
      "|1000018|     UK|Warner Bros. Pict...|\n",
      "|1000018|    USA|  Legendary Pictures|\n",
      "|1000018|    USA|             Syncopy|\n",
      "|1000018|    USA|Warner Bros. Pict...|\n",
      "|1000028|    USA|  Legendary Pictures|\n",
      "|1000031|    USA|Hyperobject Indus...|\n",
      "|1000031|    USA|Searchlight Pictures|\n",
      "|1000031|    USA|Gary Sanchez Prod...|\n",
      "+-------+-------+--------------------+\n",
      "only showing top 10 rows\n",
      "\n"
     ]
    }
   ],
   "source": [
    "df_countries_studios = df_countries.join(df_studios, \"id\", \"inner\")\n",
    "df_countries_studios.printSchema()\n",
    "df_countries_studios.show(10)"
   ]
  },
  {
   "cell_type": "code",
   "execution_count": 11,
   "id": "935e4c60",
   "metadata": {},
   "outputs": [
    {
     "name": "stdout",
     "output_type": "stream",
     "text": [
      "+-----------+--------------------+----------+\n",
      "|    country|              studio|qtd_movies|\n",
      "+-----------+--------------------+----------+\n",
      "|        USA|   American Zoetrope|        94|\n",
      "|     France|                 SVT|        49|\n",
      "|Switzerland|Imperative Entert...|         1|\n",
      "|        USA|Pine District Pic...|         1|\n",
      "|         UK|  Dune Entertainment|        22|\n",
      "|      Japan|         Bitters End|        51|\n",
      "|      Japan|Agency for Cultur...|         3|\n",
      "|     Canada|   Anonymous Content|         7|\n",
      "|        USA|Sony Pictures Ani...|        55|\n",
      "|         UK|20th Century Studios|         4|\n",
      "+-----------+--------------------+----------+\n",
      "only showing top 10 rows\n",
      "\n"
     ]
    }
   ],
   "source": [
    "movie_by_country_and_studio = df_countries_studios.groupBy(\"country\", \"studio\")\\\n",
    "    .agg(count(\"*\").alias(\"qtd_movies\"))\n",
    "movie_by_country_and_studio.show(10)"
   ]
  },
  {
   "cell_type": "code",
   "execution_count": 12,
   "id": "d9b558cb",
   "metadata": {},
   "outputs": [
    {
     "name": "stdout",
     "output_type": "stream",
     "text": [
      "+-------+--------------------+----------+----+\n",
      "|country|              studio|qtd_movies|rank|\n",
      "+-------+--------------------+----------+----+\n",
      "|     UK|                 BBC|      3056|   1|\n",
      "|    USA|Warner Bros. Pict...|      3023|   1|\n",
      "|    USA|   Columbia Pictures|      2798|   2|\n",
      "|    USA| Metro-Goldwyn-Mayer|      2677|   3|\n",
      "| Canada|           ONF | NFB|      2466|   1|\n",
      "|Germany|                 ZDF|      2328|   1|\n",
      "|  Japan|        Toei Company|      2328|   1|\n",
      "|  Japan|Nikkatsu Corporation|      1864|   2|\n",
      "|Germany|                 ARD|      1543|   2|\n",
      "| France|                ARTE|      1470|   1|\n",
      "+-------+--------------------+----------+----+\n",
      "only showing top 10 rows\n",
      "\n"
     ]
    }
   ],
   "source": [
    "window_spec = Window.partitionBy(\"country\").orderBy(desc(\"qtd_movies\"))\n",
    "top_studios_by_country = movie_by_country_and_studio.withColumn(\"rank\", row_number().over(window_spec))\n",
    "top_3_studios_by_country = top_studios_by_country.filter(col(\"rank\") <= 3)\n",
    "top_3_studios_by_country.orderBy(col(\"qtd_movies\").desc()).show(10)"
   ]
  },
  {
   "cell_type": "markdown",
   "id": "c1a510be",
   "metadata": {},
   "source": [
    "### Atores Mais Frequentes por Gênero de Filme"
   ]
  },
  {
   "cell_type": "code",
   "execution_count": 13,
   "id": "c006948b",
   "metadata": {},
   "outputs": [
    {
     "name": "stdout",
     "output_type": "stream",
     "text": [
      "root\n",
      " |-- id: integer (nullable = true)\n",
      " |-- name: string (nullable = true)\n",
      " |-- role: string (nullable = true)\n",
      "\n"
     ]
    },
    {
     "name": "stderr",
     "output_type": "stream",
     "text": [
      "                                                                                \r"
     ]
    }
   ],
   "source": [
    "df_actors = read_csv(\"actors\")\n",
    "df_actors.printSchema()"
   ]
  },
  {
   "cell_type": "code",
   "execution_count": null,
   "id": "833637c1",
   "metadata": {},
   "outputs": [],
   "source": [
    "df_genre_selected = df_genre.select(\"id\", \"genre\")\n",
    "df_actors_selected = df_actors.select(\"id\", \"name\")\n",
    "\n",
    "# TODO: remover animation e documentary"
   ]
  },
  {
   "cell_type": "code",
   "execution_count": 15,
   "id": "6206cbb8",
   "metadata": {},
   "outputs": [],
   "source": [
    "df_actors_genre = df_actors_selected.join(df_genre_selected, \"id\", \"inner\")\n",
    "df_freq_actor_genre = df_actors_genre.groupBy(\"genre\", \"name\").agg(count(\"*\").alias(\"qtd_movies\")).filter(col(\"qtd_movies\") >= 3)"
   ]
  },
  {
   "cell_type": "code",
   "execution_count": 22,
   "id": "74debdbb",
   "metadata": {},
   "outputs": [
    {
     "name": "stderr",
     "output_type": "stream",
     "text": [
      "25/04/06 17:30:01 WARN RowBasedKeyValueBatch: Calling spill() on RowBasedKeyValueBatch. Will not spill but return 0.\n",
      "25/04/06 17:30:02 WARN RowBasedKeyValueBatch: Calling spill() on RowBasedKeyValueBatch. Will not spill but return 0.\n",
      "25/04/06 17:30:02 WARN RowBasedKeyValueBatch: Calling spill() on RowBasedKeyValueBatch. Will not spill but return 0.\n",
      "25/04/06 17:30:02 WARN RowBasedKeyValueBatch: Calling spill() on RowBasedKeyValueBatch. Will not spill but return 0.\n",
      "25/04/06 17:30:02 WARN RowBasedKeyValueBatch: Calling spill() on RowBasedKeyValueBatch. Will not spill but return 0.\n",
      "25/04/06 17:30:02 WARN RowBasedKeyValueBatch: Calling spill() on RowBasedKeyValueBatch. Will not spill but return 0.\n",
      "25/04/06 17:30:02 WARN RowBasedKeyValueBatch: Calling spill() on RowBasedKeyValueBatch. Will not spill but return 0.\n",
      "25/04/06 17:30:02 WARN RowBasedKeyValueBatch: Calling spill() on RowBasedKeyValueBatch. Will not spill but return 0.\n",
      "25/04/06 17:30:02 WARN RowBasedKeyValueBatch: Calling spill() on RowBasedKeyValueBatch. Will not spill but return 0.\n",
      "25/04/06 17:30:02 WARN RowBasedKeyValueBatch: Calling spill() on RowBasedKeyValueBatch. Will not spill but return 0.\n",
      "25/04/06 17:30:02 WARN RowBasedKeyValueBatch: Calling spill() on RowBasedKeyValueBatch. Will not spill but return 0.\n",
      "25/04/06 17:30:02 WARN RowBasedKeyValueBatch: Calling spill() on RowBasedKeyValueBatch. Will not spill but return 0.\n",
      "25/04/06 17:30:02 WARN RowBasedKeyValueBatch: Calling spill() on RowBasedKeyValueBatch. Will not spill but return 0.\n",
      "25/04/06 17:30:02 WARN RowBasedKeyValueBatch: Calling spill() on RowBasedKeyValueBatch. Will not spill but return 0.\n",
      "25/04/06 17:30:02 WARN RowBasedKeyValueBatch: Calling spill() on RowBasedKeyValueBatch. Will not spill but return 0.\n",
      "25/04/06 17:30:02 WARN RowBasedKeyValueBatch: Calling spill() on RowBasedKeyValueBatch. Will not spill but return 0.\n",
      "25/04/06 17:30:02 WARN RowBasedKeyValueBatch: Calling spill() on RowBasedKeyValueBatch. Will not spill but return 0.\n",
      "25/04/06 17:30:02 WARN RowBasedKeyValueBatch: Calling spill() on RowBasedKeyValueBatch. Will not spill but return 0.\n",
      "25/04/06 17:30:02 WARN RowBasedKeyValueBatch: Calling spill() on RowBasedKeyValueBatch. Will not spill but return 0.\n",
      "25/04/06 17:30:02 WARN RowBasedKeyValueBatch: Calling spill() on RowBasedKeyValueBatch. Will not spill but return 0.\n",
      "25/04/06 17:30:02 WARN RowBasedKeyValueBatch: Calling spill() on RowBasedKeyValueBatch. Will not spill but return 0.\n",
      "25/04/06 17:30:02 WARN RowBasedKeyValueBatch: Calling spill() on RowBasedKeyValueBatch. Will not spill but return 0.\n",
      "25/04/06 17:30:02 WARN RowBasedKeyValueBatch: Calling spill() on RowBasedKeyValueBatch. Will not spill but return 0.\n",
      "25/04/06 17:30:02 WARN RowBasedKeyValueBatch: Calling spill() on RowBasedKeyValueBatch. Will not spill but return 0.\n",
      "25/04/06 17:30:02 WARN RowBasedKeyValueBatch: Calling spill() on RowBasedKeyValueBatch. Will not spill but return 0.\n",
      "25/04/06 17:30:02 WARN RowBasedKeyValueBatch: Calling spill() on RowBasedKeyValueBatch. Will not spill but return 0.\n",
      "25/04/06 17:30:02 WARN RowBasedKeyValueBatch: Calling spill() on RowBasedKeyValueBatch. Will not spill but return 0.\n",
      "25/04/06 17:30:02 WARN RowBasedKeyValueBatch: Calling spill() on RowBasedKeyValueBatch. Will not spill but return 0.\n",
      "25/04/06 17:30:02 WARN RowBasedKeyValueBatch: Calling spill() on RowBasedKeyValueBatch. Will not spill but return 0.\n",
      "25/04/06 17:30:02 WARN RowBasedKeyValueBatch: Calling spill() on RowBasedKeyValueBatch. Will not spill but return 0.\n",
      "25/04/06 17:30:02 WARN RowBasedKeyValueBatch: Calling spill() on RowBasedKeyValueBatch. Will not spill but return 0.\n",
      "25/04/06 17:30:02 WARN RowBasedKeyValueBatch: Calling spill() on RowBasedKeyValueBatch. Will not spill but return 0.\n",
      "25/04/06 17:30:02 WARN RowBasedKeyValueBatch: Calling spill() on RowBasedKeyValueBatch. Will not spill but return 0.\n",
      "25/04/06 17:30:02 WARN RowBasedKeyValueBatch: Calling spill() on RowBasedKeyValueBatch. Will not spill but return 0.\n",
      "25/04/06 17:30:02 WARN RowBasedKeyValueBatch: Calling spill() on RowBasedKeyValueBatch. Will not spill but return 0.\n",
      "25/04/06 17:30:02 WARN RowBasedKeyValueBatch: Calling spill() on RowBasedKeyValueBatch. Will not spill but return 0.\n",
      "25/04/06 17:30:02 WARN RowBasedKeyValueBatch: Calling spill() on RowBasedKeyValueBatch. Will not spill but return 0.\n",
      "25/04/06 17:30:02 WARN RowBasedKeyValueBatch: Calling spill() on RowBasedKeyValueBatch. Will not spill but return 0.\n",
      "25/04/06 17:30:02 WARN RowBasedKeyValueBatch: Calling spill() on RowBasedKeyValueBatch. Will not spill but return 0.\n",
      "25/04/06 17:30:02 WARN RowBasedKeyValueBatch: Calling spill() on RowBasedKeyValueBatch. Will not spill but return 0.\n",
      "25/04/06 17:30:02 WARN RowBasedKeyValueBatch: Calling spill() on RowBasedKeyValueBatch. Will not spill but return 0.\n",
      "25/04/06 17:30:02 WARN RowBasedKeyValueBatch: Calling spill() on RowBasedKeyValueBatch. Will not spill but return 0.\n",
      "25/04/06 17:30:02 WARN RowBasedKeyValueBatch: Calling spill() on RowBasedKeyValueBatch. Will not spill but return 0.\n",
      "25/04/06 17:30:02 WARN RowBasedKeyValueBatch: Calling spill() on RowBasedKeyValueBatch. Will not spill but return 0.\n",
      "25/04/06 17:30:02 WARN RowBasedKeyValueBatch: Calling spill() on RowBasedKeyValueBatch. Will not spill but return 0.\n",
      "25/04/06 17:30:02 WARN RowBasedKeyValueBatch: Calling spill() on RowBasedKeyValueBatch. Will not spill but return 0.\n",
      "25/04/06 17:30:02 WARN RowBasedKeyValueBatch: Calling spill() on RowBasedKeyValueBatch. Will not spill but return 0.\n",
      "25/04/06 17:30:02 WARN RowBasedKeyValueBatch: Calling spill() on RowBasedKeyValueBatch. Will not spill but return 0.\n",
      "25/04/06 17:30:02 WARN RowBasedKeyValueBatch: Calling spill() on RowBasedKeyValueBatch. Will not spill but return 0.\n",
      "25/04/06 17:30:02 WARN RowBasedKeyValueBatch: Calling spill() on RowBasedKeyValueBatch. Will not spill but return 0.\n",
      "25/04/06 17:30:02 WARN RowBasedKeyValueBatch: Calling spill() on RowBasedKeyValueBatch. Will not spill but return 0.\n",
      "25/04/06 17:30:02 WARN RowBasedKeyValueBatch: Calling spill() on RowBasedKeyValueBatch. Will not spill but return 0.\n",
      "25/04/06 17:30:02 WARN RowBasedKeyValueBatch: Calling spill() on RowBasedKeyValueBatch. Will not spill but return 0.\n",
      "25/04/06 17:30:02 WARN RowBasedKeyValueBatch: Calling spill() on RowBasedKeyValueBatch. Will not spill but return 0.\n",
      "25/04/06 17:30:02 WARN RowBasedKeyValueBatch: Calling spill() on RowBasedKeyValueBatch. Will not spill but return 0.\n",
      "25/04/06 17:30:02 WARN RowBasedKeyValueBatch: Calling spill() on RowBasedKeyValueBatch. Will not spill but return 0.\n",
      "25/04/06 17:30:02 WARN RowBasedKeyValueBatch: Calling spill() on RowBasedKeyValueBatch. Will not spill but return 0.\n",
      "25/04/06 17:30:02 WARN RowBasedKeyValueBatch: Calling spill() on RowBasedKeyValueBatch. Will not spill but return 0.\n",
      "25/04/06 17:30:02 WARN RowBasedKeyValueBatch: Calling spill() on RowBasedKeyValueBatch. Will not spill but return 0.\n",
      "25/04/06 17:30:02 WARN RowBasedKeyValueBatch: Calling spill() on RowBasedKeyValueBatch. Will not spill but return 0.\n",
      "25/04/06 17:30:02 WARN RowBasedKeyValueBatch: Calling spill() on RowBasedKeyValueBatch. Will not spill but return 0.\n",
      "25/04/06 17:30:02 WARN RowBasedKeyValueBatch: Calling spill() on RowBasedKeyValueBatch. Will not spill but return 0.\n",
      "25/04/06 17:30:02 WARN RowBasedKeyValueBatch: Calling spill() on RowBasedKeyValueBatch. Will not spill but return 0.\n"
     ]
    },
    {
     "name": "stdout",
     "output_type": "stream",
     "text": [
      "[82,443s][warning][gc,alloc] Executor task launch worker for task 14.0 in stage 98.0 (TID 386): Retried waiting for GCLocker too often allocating 524290 words\n"
     ]
    },
    {
     "name": "stderr",
     "output_type": "stream",
     "text": [
      "25/04/06 17:30:02 WARN TaskMemoryManager: Failed to allocate a page (4194304 bytes), try again.\n",
      "25/04/06 17:30:02 WARN RowBasedKeyValueBatch: Calling spill() on RowBasedKeyValueBatch. Will not spill but return 0.\n",
      "25/04/06 17:30:02 WARN RowBasedKeyValueBatch: Calling spill() on RowBasedKeyValueBatch. Will not spill but return 0.\n",
      "25/04/06 17:30:02 WARN RowBasedKeyValueBatch: Calling spill() on RowBasedKeyValueBatch. Will not spill but return 0.\n",
      "25/04/06 17:30:03 WARN RowBasedKeyValueBatch: Calling spill() on RowBasedKeyValueBatch. Will not spill but return 0.\n",
      "25/04/06 17:30:03 WARN RowBasedKeyValueBatch: Calling spill() on RowBasedKeyValueBatch. Will not spill but return 0.\n",
      "25/04/06 17:30:03 WARN RowBasedKeyValueBatch: Calling spill() on RowBasedKeyValueBatch. Will not spill but return 0.\n",
      "25/04/06 17:30:03 WARN RowBasedKeyValueBatch: Calling spill() on RowBasedKeyValueBatch. Will not spill but return 0.\n",
      "25/04/06 17:30:03 WARN RowBasedKeyValueBatch: Calling spill() on RowBasedKeyValueBatch. Will not spill but return 0.\n",
      "25/04/06 17:30:03 WARN RowBasedKeyValueBatch: Calling spill() on RowBasedKeyValueBatch. Will not spill but return 0.\n",
      "25/04/06 17:30:03 WARN RowBasedKeyValueBatch: Calling spill() on RowBasedKeyValueBatch. Will not spill but return 0.\n",
      "25/04/06 17:30:03 WARN RowBasedKeyValueBatch: Calling spill() on RowBasedKeyValueBatch. Will not spill but return 0.\n",
      "25/04/06 17:30:03 WARN RowBasedKeyValueBatch: Calling spill() on RowBasedKeyValueBatch. Will not spill but return 0.\n",
      "25/04/06 17:30:03 WARN RowBasedKeyValueBatch: Calling spill() on RowBasedKeyValueBatch. Will not spill but return 0.\n",
      "25/04/06 17:30:03 WARN RowBasedKeyValueBatch: Calling spill() on RowBasedKeyValueBatch. Will not spill but return 0.\n",
      "25/04/06 17:30:03 WARN RowBasedKeyValueBatch: Calling spill() on RowBasedKeyValueBatch. Will not spill but return 0.\n",
      "25/04/06 17:30:03 WARN RowBasedKeyValueBatch: Calling spill() on RowBasedKeyValueBatch. Will not spill but return 0.\n",
      "25/04/06 17:30:03 WARN RowBasedKeyValueBatch: Calling spill() on RowBasedKeyValueBatch. Will not spill but return 0.\n",
      "25/04/06 17:30:03 WARN RowBasedKeyValueBatch: Calling spill() on RowBasedKeyValueBatch. Will not spill but return 0.\n",
      "[Stage 98:==>                                                     (1 + 16) / 19]\r"
     ]
    },
    {
     "name": "stdout",
     "output_type": "stream",
     "text": [
      "[83,437s][warning][gc,alloc] Executor task launch worker for task 16.0 in stage 98.0 (TID 388): Retried waiting for GCLocker too often allocating 2097154 words\n"
     ]
    },
    {
     "name": "stderr",
     "output_type": "stream",
     "text": [
      "25/04/06 17:30:04 WARN TaskMemoryManager: Failed to allocate a page (16777216 bytes), try again.\n"
     ]
    },
    {
     "name": "stdout",
     "output_type": "stream",
     "text": [
      "[83,714s][warning][gc,alloc] Executor task launch worker for task 16.0 in stage 98.0 (TID 388): Retried waiting for GCLocker too often allocating 2097154 words\n",
      "[83,719s][warning][gc,alloc] Executor task launch worker for task 16.0 in stage 98.0 (TID 388): Retried waiting for GCLocker too often allocating 2097154 words\n"
     ]
    },
    {
     "name": "stderr",
     "output_type": "stream",
     "text": [
      "[Stage 98:===============================================>        (16 + 3) / 19]\r"
     ]
    },
    {
     "name": "stdout",
     "output_type": "stream",
     "text": [
      "[84,541s][warning][gc,alloc] Executor task launch worker for task 16.0 in stage 102.0 (TID 407): Retried waiting for GCLocker too often allocating 2097154 words\n",
      "[84,545s][warning][gc,alloc] Executor task launch worker for task 16.0 in stage 102.0 (TID 407): Retried waiting for GCLocker too often allocating 2097154 words\n",
      "[84,548s][warning][gc,alloc] Executor task launch worker for task 16.0 in stage 102.0 (TID 407): Retried waiting for GCLocker too often allocating 2097154 words\n",
      "[84,552s][warning][gc,alloc] Executor task launch worker for task 16.0 in stage 102.0 (TID 407): Retried waiting for GCLocker too often allocating 2097154 words\n"
     ]
    },
    {
     "name": "stderr",
     "output_type": "stream",
     "text": [
      "25/04/06 17:30:04 WARN TaskMemoryManager: Failed to allocate a page (16777216 bytes), try again.\n",
      "25/04/06 17:30:04 WARN TaskMemoryManager: Failed to allocate a page (16777216 bytes), try again.\n",
      "[Stage 102:============================>                          (10 + 9) / 19]\r"
     ]
    },
    {
     "name": "stdout",
     "output_type": "stream",
     "text": [
      "+-----------+-----------------+----------+----+\n",
      "|      genre|             name|qtd_movies|rank|\n",
      "+-----------+-----------------+----------+----+\n",
      "|     Action|           Nassar|       219|   1|\n",
      "|  Adventure|     Frank Welker|       130|   1|\n",
      "|  Animation|        Mel Blanc|      1012|   1|\n",
      "|     Comedy|        Mel Blanc|       624|   1|\n",
      "|      Crime|     Hideo Murota|       115|   1|\n",
      "|Documentary|     Adolf Hitler|       221|   1|\n",
      "|      Drama|Jagathy Sreekumar|       346|   1|\n",
      "|     Family|     Frank Welker|       255|   1|\n",
      "|    Fantasy|     Frank Welker|        87|   1|\n",
      "|    History|     Adolf Hitler|       102|   1|\n",
      "+-----------+-----------------+----------+----+\n",
      "only showing top 10 rows\n",
      "\n"
     ]
    },
    {
     "name": "stderr",
     "output_type": "stream",
     "text": [
      "                                                                                \r"
     ]
    }
   ],
   "source": [
    "window_spec = Window.partitionBy(\"genre\").orderBy(desc(\"qtd_movies\"))\n",
    "top_3_actors_by_genre = df_freq_actor_genre.repartition(50, \"genre\")\\\n",
    "    .withColumn(\"rank\", row_number().over(window_spec))\\\n",
    "    .filter(col(\"rank\") == 1)\\\n",
    "    .select(\"genre\", \"name\", \"qtd_movies\", \"rank\").orderBy(\"genre\", \"rank\")\\\n",
    "    .show(10)"
   ]
  },
  {
   "cell_type": "markdown",
   "id": "87be21dd",
   "metadata": {},
   "source": [
    "### Quantidade de Filmes Produzidos por Ano"
   ]
  },
  {
   "cell_type": "code",
   "execution_count": 17,
   "id": "f14631e6",
   "metadata": {},
   "outputs": [],
   "source": [
    "df_movies = read_csv(\"movies\")"
   ]
  },
  {
   "cell_type": "code",
   "execution_count": 18,
   "id": "19c3ca2b",
   "metadata": {},
   "outputs": [
    {
     "name": "stdout",
     "output_type": "stream",
     "text": [
      "+-------+--------------------+----+--------------------+--------------------+--------------------+------+----+\n",
      "|     id|                name|date|             tagline|         description|              minute|rating|year|\n",
      "+-------+--------------------+----+--------------------+--------------------+--------------------+------+----+\n",
      "|1000001|              Barbie|2023|She's everything....|Barbie and Ken ar...|                 114|  3.86|2023|\n",
      "|1000002|            Parasite|2019|Act like you own ...|All unemployed, K...|                 133|  4.56|2019|\n",
      "|1000003|Everything Everyw...|2022|The universe is s...|An aging Chinese ...|                 140|   4.3|2022|\n",
      "|1000004|          Fight Club|1999|Mischief. Mayhem....|\"A ticking-time-b...| until an eccentr...|   139|1999|\n",
      "|1000005|          La La Land|2016|Here's to the foo...|Mia, an aspiring ...|                 129|  4.09|2016|\n",
      "|1000006|         Oppenheimer|2023|The world forever...|The story of J. R...|                 181|  4.23|2023|\n",
      "|1000007|        Interstellar|2014|Mankind was born ...|The adventures of...|                 169|  4.35|2014|\n",
      "|1000008|               Joker|2019|Put on a happy face.|During the 1980s,...|                 122|  3.85|2019|\n",
      "|1000009|                Dune|2021|Beyond fear, dest...|Paul Atreides, a ...|                 155|   3.9|2021|\n",
      "|1000010|        Pulp Fiction|1994|Just because you ...|A burger-loving h...|                 154|  4.26|1994|\n",
      "+-------+--------------------+----+--------------------+--------------------+--------------------+------+----+\n",
      "only showing top 10 rows\n",
      "\n"
     ]
    }
   ],
   "source": [
    "from pyspark.sql.functions import year\n",
    "df_movies_with_year = df_movies.withColumn(\"year\", year(col(\"date\")))\n",
    "df_movies_with_year.show(10)"
   ]
  },
  {
   "cell_type": "code",
   "execution_count": 19,
   "id": "2a386a04",
   "metadata": {},
   "outputs": [
    {
     "name": "stdout",
     "output_type": "stream",
     "text": [
      "+-------+----+\n",
      "|     id|year|\n",
      "+-------+----+\n",
      "|1011069|2031|\n",
      "|1940010|2030|\n",
      "|1449473|2030|\n",
      "|1834707|2030|\n",
      "|1010630|2029|\n",
      "|1327612|2029|\n",
      "|1504483|2029|\n",
      "|1720560|2028|\n",
      "|1582537|2028|\n",
      "|1509533|2028|\n",
      "+-------+----+\n",
      "only showing top 10 rows\n",
      "\n"
     ]
    }
   ],
   "source": [
    "df_movies_by_year = df_movies_with_year.select(\"id\", \"year\").dropDuplicates([\"id\", \"year\"])\n",
    "df_movies_by_year.orderBy(col(\"year\").desc()).show(10)"
   ]
  },
  {
   "cell_type": "code",
   "execution_count": 20,
   "id": "21637f4d",
   "metadata": {},
   "outputs": [
    {
     "name": "stdout",
     "output_type": "stream",
     "text": [
      "+----+-----------------+\n",
      "|year|qtd_unique_movies|\n",
      "+----+-----------------+\n",
      "|2031|                1|\n",
      "|2030|                3|\n",
      "|2029|                3|\n",
      "|2028|                4|\n",
      "|2027|               12|\n",
      "|2026|               51|\n",
      "|2025|              341|\n",
      "|2024|            18974|\n",
      "|2023|            43408|\n",
      "|2022|            40304|\n",
      "|2021|            39685|\n",
      "|2020|            36700|\n",
      "|2019|            35792|\n",
      "|2018|            32378|\n",
      "|2017|            30121|\n",
      "|2016|            26782|\n",
      "|2015|            25438|\n",
      "|2014|            24173|\n",
      "|2013|            22412|\n",
      "|2012|            19971|\n",
      "|2011|            18335|\n",
      "|2010|            16747|\n",
      "|2009|            16228|\n",
      "|2008|            15205|\n",
      "|2007|            14327|\n",
      "|2006|            13870|\n",
      "|2005|            12590|\n",
      "|2004|            11392|\n",
      "|2003|            10318|\n",
      "|2002|             9226|\n",
      "|2001|             8414|\n",
      "|2000|             7704|\n",
      "|1999|             7497|\n",
      "|1998|             7085|\n",
      "|1997|             6907|\n",
      "|1996|             6431|\n",
      "|1995|             6425|\n",
      "|1994|             6278|\n",
      "|1993|             6250|\n",
      "|1992|             6326|\n",
      "|1991|             6360|\n",
      "|1990|             6402|\n",
      "|1989|             6459|\n",
      "|1988|             6086|\n",
      "|1987|             5980|\n",
      "|1986|             5639|\n",
      "|1985|             5389|\n",
      "|1984|             5481|\n",
      "|1983|             5332|\n",
      "|1982|             5308|\n",
      "+----+-----------------+\n",
      "only showing top 50 rows\n",
      "\n"
     ]
    }
   ],
   "source": [
    "result = df_movies_by_year.groupBy(\"year\").agg(count(\"*\").alias(\"qtd_unique_movies\")).orderBy(col(\"year\").desc())\n",
    "result.show(50)"
   ]
  },
  {
   "cell_type": "code",
   "execution_count": 21,
   "id": "86141316",
   "metadata": {},
   "outputs": [],
   "source": [
    "#spark.stop()"
   ]
  }
 ],
 "metadata": {
  "kernelspec": {
   "display_name": ".venv",
   "language": "python",
   "name": "python3"
  },
  "language_info": {
   "codemirror_mode": {
    "name": "ipython",
    "version": 3
   },
   "file_extension": ".py",
   "mimetype": "text/x-python",
   "name": "python",
   "nbconvert_exporter": "python",
   "pygments_lexer": "ipython3",
   "version": "3.12.3"
  }
 },
 "nbformat": 4,
 "nbformat_minor": 5
}
